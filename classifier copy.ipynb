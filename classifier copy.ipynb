{
  "cells": [
    {
      "cell_type": "code",
      "execution_count": null,
      "metadata": {
        "id": "_tNd6ycV-Tg1"
      },
      "outputs": [],
      "source": [
        "import torch\n",
        "from torchvision import datasets\n",
        "from torchvision import transforms\n",
        "from torch.utils.data import DataLoader\n",
        "import torch.nn as nn\n",
        "import torch.optim as optim\n",
        "from torch.optim import lr_scheduler\n",
        "import torchvision.models as models\n",
        "import matplotlib.pyplot as plt"
      ]
    },
    {
      "cell_type": "code",
      "execution_count": null,
      "metadata": {
        "colab": {
          "base_uri": "https://localhost:8080/"
        },
        "id": "_vXzjOBa-Tg4",
        "outputId": "a277e0aa-65a6-40b9-8e03-7de63e2aa57f"
      },
      "outputs": [],
      "source": [
        "#model = models.vgg11_bn()\n",
        "#model"
      ]
    },
    {
      "cell_type": "code",
      "execution_count": null,
      "metadata": {
        "colab": {
          "base_uri": "https://localhost:8080/"
        },
        "id": "ZR62i8I1-Tg5",
        "outputId": "0700894a-1d69-4fb3-93e7-99016aa89cc6"
      },
      "outputs": [],
      "source": [
        "# Mean and Standard Deviation for normalisation of images.\n",
        "# Values are taken from existing image classification models \n",
        "mean = [0.485, 0.456, 0.406]\n",
        "std = [0.229, 0.224, 0.225]\n",
        "\n",
        "# Define training transformation for data augmentation, including\n",
        "# changing BCS, random rotation, random horizontal and vertical flips\n",
        "# and resize image to (224,224) and normalisation by given mean and std\n",
        "trainTransform = transforms.Compose(\n",
        "    [transforms.RandomResizedCrop(224),\n",
        "     transforms.ColorJitter(brightness=0.2, contrast=0.2, saturation=0.2, hue=0.1),\n",
        "     transforms.RandomHorizontalFlip(),\n",
        "     transforms.RandomVerticalFlip(),\n",
        "     transforms.RandomRotation(30),\n",
        "     transforms.ToTensor(),\n",
        "     transforms.Normalize(torch.Tensor(mean), torch.Tensor(std)),\n",
        "    ])\n",
        "\n",
        "# Define validation and testing transformation, including\n",
        "# resizing image to (224,224) and normalisation by given mean and std\n",
        "valTransform = transforms.Compose([\n",
        "    transforms.CenterCrop(224),\n",
        "    transforms.ToTensor(),\n",
        "    transforms.Normalize(torch.Tensor(mean), torch.Tensor(std)),\n",
        "    ])\n",
        "\n",
        "testTransform = transforms.Compose([\n",
        "    transforms.CenterCrop(224),\n",
        "    transforms.ToTensor(),\n",
        "    transforms.Normalize(torch.Tensor(mean), torch.Tensor(std)),\n",
        "    ])"
      ]
    },
    {
      "cell_type": "code",
      "execution_count": null,
      "metadata": {},
      "outputs": [],
      "source": [
        "# Downloading datasets by pre-defined splits\n",
        "trainData = datasets.Flowers102(root='data', split = 'train', download=True, transform=trainTransform)\n",
        "valData = datasets.Flowers102(root='data', split = 'val', download=True, transform=valTransform)\n",
        "testData = datasets.Flowers102(root='data', split = 'test', download=True, transform=testTransform)"
      ]
    },
    {
      "cell_type": "code",
      "execution_count": null,
      "metadata": {
        "colab": {
          "base_uri": "https://localhost:8080/",
          "height": 968
        },
        "id": "0xk9WNCJArV0",
        "outputId": "0e867e73-5a1a-40e1-e1d4-851c53316d79"
      },
      "outputs": [],
      "source": [
        "# Displaying a few images from the training dataset\n",
        "figure = plt.figure(figsize=(10, 10))\n",
        "cols, rows = 3, 3\n",
        "for i in range(1, cols * rows + 1):\n",
        "    sample_idx = torch.randint(len(trainData), size=(1,)).item()\n",
        "    img, label = trainData[sample_idx]\n",
        "    figure.add_subplot(rows, cols, i)\n",
        "    plt.axis(\"off\")\n",
        "    plt.imshow(img.permute(1,2,0), cmap=\"gray\")\n",
        "plt.show()"
      ]
    },
    {
      "cell_type": "code",
      "execution_count": null,
      "metadata": {
        "id": "hT2npGEkAzbi"
      },
      "outputs": [],
      "source": [
        "class MyCNN(nn.Module):\n",
        "\n",
        "    def __init__(self):\n",
        "      super(MyCNN, self).__init__()\n",
        "      self.convLayer = nn.Sequential(\n",
        "        nn.Conv2d(3, 32, kernel_size=(3, 3), stride=(1, 1), padding=(1, 1)),\n",
        "        nn.ReLU(),\n",
        "        nn.BatchNorm2d(32),\n",
        "        nn.MaxPool2d(kernel_size=2, stride=2),\n",
        "\n",
        "        nn.Conv2d(32, 64, kernel_size=(3, 3), stride=(1, 1), padding=(1, 1)),\n",
        "        nn.ReLU(),\n",
        "        nn.BatchNorm2d(64),\n",
        "        nn.MaxPool2d(kernel_size=2, stride=2),\n",
        "\n",
        "        nn.Conv2d(64, 128, kernel_size=(3, 3), stride=(1, 1), padding=(1, 1)),\n",
        "        nn.ReLU(),\n",
        "        nn.BatchNorm2d(128),\n",
        "        nn.MaxPool2d(kernel_size=2, stride=2),\n",
        "\n",
        "        nn.Conv2d(128, 256, kernel_size=(3, 3), stride=(1, 1), padding=(1, 1)),\n",
        "        nn.ReLU(),\n",
        "        nn.BatchNorm2d(256),\n",
        "        nn.MaxPool2d(kernel_size=2, stride=2),\n",
        "        nn.Dropout(0.5)\n",
        "      )\n",
        "      \n",
        "      self.classLayer = nn.Sequential(\n",
        "          nn.Flatten(),\n",
        "\n",
        "          nn.Linear(in_features=50176, out_features=2048, bias=True),\n",
        "          nn.Dropout(p=0.5),\n",
        "          nn.ReLU(),\n",
        "          \n",
        "\n",
        "          nn.Linear(in_features=2048, out_features=512, bias=True),\n",
        "          nn.Dropout(p=0.5),\n",
        "          nn.ReLU(),\n",
        "          \n",
        "\n",
        "          nn.Linear(in_features=512, out_features=102, bias=True)\n",
        "      )\n",
        "\n",
        "    def forward(self, x):\n",
        "      x = self.convLayer(x)\n",
        "      x = self.classLayer(x)\n",
        "\n",
        "      return x\n",
        "\n",
        "\n"
      ]
    },
    {
      "cell_type": "code",
      "execution_count": null,
      "metadata": {
        "colab": {
          "base_uri": "https://localhost:8080/"
        },
        "id": "AchUlSedDaNM",
        "outputId": "a8d75f37-f196-4c3e-f492-c57de3362776"
      },
      "outputs": [],
      "source": [
        "# Hyperparameters\n",
        "BATCH_SIZE = 32\n",
        "NUM_EPOCHS = 500\n",
        "LR = 0.0001\n",
        "WD = 0.0001\n",
        "\n",
        "# Device\n",
        "device = \"cuda\" if torch.cuda.is_available() else \"cpu\"\n",
        "print(device)\n",
        "\n",
        "# Model\n",
        "model = MyCNN()\n",
        "model = model.to(device)\n",
        "\n",
        "# Optimizer and Scheduler for adaptive learning rate\n",
        "optimizer = optim.Adam(model.parameters(), lr = LR, weight_decay = WD)\n",
        "scheduler = lr_scheduler.ReduceLROnPlateau(optimizer, mode='min',factor = 0.5, patience=5)\n",
        "\n",
        "# Loss Function\n",
        "loss = nn.CrossEntropyLoss()"
      ]
    },
    {
      "cell_type": "code",
      "execution_count": null,
      "metadata": {},
      "outputs": [],
      "source": [
        "# Creating dataloaders for iteration into batches and assigning 4 parrallel computations\n",
        "trainLoader = DataLoader(trainData, batch_size = BATCH_SIZE, shuffle = True, num_workers = 4)\n",
        "valLoader = DataLoader(valData, batch_size = BATCH_SIZE, shuffle = False, num_workers = 4)\n",
        "testLoader = DataLoader(testData, batch_size = BATCH_SIZE, shuffle = False, num_workers = 4)"
      ]
    },
    {
      "cell_type": "code",
      "execution_count": null,
      "metadata": {
        "id": "R1iBsIsYHfku"
      },
      "outputs": [],
      "source": [
        "# Defining function for model training\n",
        "losses = []\n",
        "accuracy = []\n",
        "def trainModel(dataloader, model, lossFunction, optimizer):\n",
        "    model.train()\n",
        "    currentLoss = 0.0\n",
        "    correct = 0\n",
        "    total = 0\n",
        "    epochLoss = 0\n",
        "\n",
        "    for X, y in dataloader:\n",
        "        X, y = X.to(device), y.to(device)\n",
        "        total += y.size(0)\n",
        "\n",
        "        optimizer.zero_grad()\n",
        "        pred = model(X)\n",
        "        loss = lossFunction(pred, y)\n",
        "        loss.backward()\n",
        "        optimizer.step()\n",
        "\n",
        "        currentLoss += loss.item()\n",
        "        epochLoss += lossFunction(pred, y).item()\n",
        "        correct += (pred.argmax(1) == y).type(torch.float).sum().item()\n",
        "\n",
        "    epochLoss = epochLoss/total\n",
        "    correct = correct/total\n",
        "\n",
        "    losses.append(epochLoss)\n",
        "    accuracy.append(correct * 100)\n",
        "    print(f'Training: Accuracy {correct * 100:>0.1f}%, Loss: {currentLoss / len(dataloader):.5f}, Epoch Loss: {epochLoss:.5f}')\n",
        "\n"
      ]
    },
    {
      "cell_type": "code",
      "execution_count": null,
      "metadata": {
        "id": "arqU8IGOIFeU"
      },
      "outputs": [],
      "source": [
        "# Defining function to calculate validation accuracy\n",
        "def validateModel(dataloader, model, lossFunction):\n",
        "    model.eval()\n",
        "    total = 0\n",
        "    correct = 0\n",
        "    epochLoss = 0\n",
        "\n",
        "    with torch.no_grad():\n",
        "        for X, y in dataloader:\n",
        "            X, y = X.to(device), y.to(device)\n",
        "            pred = model(X)\n",
        "            total += y.size(0)\n",
        "            epochLoss += lossFunction(pred, y).item()\n",
        "            correct += (pred.argmax(1) == y).type(torch.float).sum().item()\n",
        "\n",
        "    epochLoss = epochLoss/total\n",
        "    correct = (correct/total) * 100\n",
        "\n",
        "    print(f\"Validation: Accuracy: {(correct):>0.1f}%, Avg loss: {epochLoss:>8f} \\n\")\n",
        "    return epochLoss, correct"
      ]
    },
    {
      "cell_type": "code",
      "execution_count": null,
      "metadata": {
        "colab": {
          "base_uri": "https://localhost:8080/"
        },
        "id": "UnNrBatYIdEt",
        "outputId": "64917f16-3511-4de3-c728-d25e5a007889"
      },
      "outputs": [],
      "source": [
        "# Applying training function and output accuracy at each epoch iteration\n",
        "bestValAccuracy = 0.0\n",
        "bestValLoss = float('inf')\n",
        "bestEpoch = 0\n",
        "\n",
        "valLosses = []\n",
        "valAccuracies = []\n",
        "\n",
        "for epoch in range(NUM_EPOCHS):\n",
        "    print(f'Epoch {epoch+1}:')\n",
        "    trainModel(trainLoader, model, loss, optimizer)\n",
        "    valLoss, valAccuracy = validateModel(valLoader, model, loss)\n",
        "    valLosses.append(valLoss)\n",
        "    valAccuracies.append(valAccuracy)\n",
        "    scheduler.step(valLoss)\n",
        "\n",
        "    if (valLoss < bestValLoss):\n",
        "        bestValLoss = valLoss\n",
        "        bestValAccuracy = valAccuracy\n",
        "        bestEpoch = epoch+1\n",
        "\n",
        "print(f'Best Accuracy: {bestValAccuracy}. Best Loss: {bestValLoss} Best Epoch: {bestEpoch}')"
      ]
    },
    {
      "cell_type": "markdown",
      "metadata": {},
      "source": [
        "Validation Accuract at 0.0001 learning rate: 28%"
      ]
    }
  ],
  "metadata": {
    "colab": {
      "provenance": []
    },
    "kernelspec": {
      "display_name": "base",
      "language": "python",
      "name": "python3"
    },
    "language_info": {
      "codemirror_mode": {
        "name": "ipython",
        "version": 3
      },
      "file_extension": ".py",
      "mimetype": "text/x-python",
      "name": "python",
      "nbconvert_exporter": "python",
      "pygments_lexer": "ipython3",
      "version": "3.9.12"
    }
  },
  "nbformat": 4,
  "nbformat_minor": 0
}
