{
 "cells": [
  {
   "cell_type": "code",
   "execution_count": null,
   "metadata": {},
   "outputs": [],
   "source": [
    "import torch\n",
    "from torch.utils.data import DataLoader\n",
    "from torchvision import datasets, transforms"
   ]
  },
  {
   "cell_type": "code",
   "execution_count": null,
   "metadata": {},
   "outputs": [],
   "source": [
    "# Import training dataset and resize to (224,224)\n",
    "transform = transforms.Compose([\n",
    "    transforms.Resize((224, 224)),\n",
    "    transforms.ToTensor()\n",
    "])\n",
    "train_data = datasets.Flowers102(root='data', split = 'train', download=True, transform=transform)\n",
    "train_load = DataLoader(train_data, batch_size = 10, shuffle = False)\n",
    "\n",
    "# Calculates mean and standard deviation of the dataset\n",
    "def mean_std(loader):\n",
    "  mean = 0\n",
    "  std = 0\n",
    "  image_no = 0\n",
    "\n",
    "  for images, _ in loader:\n",
    "    image_count_batch = images.size(0)\n",
    "    images = images.view(image_count_batch, images.size(1), -1)\n",
    "    mean += images.mean(2).sum(0)\n",
    "    std += images.std(2).sum(0)\n",
    "    image_no += image_count_batch\n",
    "\n",
    "  mean /= image_no\n",
    "  std /= image_no\n",
    "\n",
    "  return mean, std\n",
    "\n",
    "mean, std = mean_std(train_load)\n",
    "print(mean, std)"
   ]
  }
 ],
 "metadata": {
  "language_info": {
   "name": "python"
  }
 },
 "nbformat": 4,
 "nbformat_minor": 2
}
